{
  "nbformat": 4,
  "nbformat_minor": 0,
  "metadata": {
    "colab": {
      "provenance": [],
      "collapsed_sections": []
    },
    "kernelspec": {
      "name": "python3",
      "display_name": "Python 3"
    },
    "language_info": {
      "name": "python"
    }
  },
  "cells": [
    {
      "cell_type": "markdown",
      "source": [
        "# Downloading requirements"
      ],
      "metadata": {
        "id": "YBmvjO5J6xVo"
      }
    },
    {
      "cell_type": "markdown",
      "source": [
        "This project is realisation of pix2pix model on pytorch\n",
        "The source: https://github.com/junyanz/pytorch-CycleGAN-and-pix2pix"
      ],
      "metadata": {
        "id": "YxambBRskvr9"
      }
    },
    {
      "cell_type": "code",
      "source": [
        "import torch\n",
        "import torch.nn as nn\n",
        "import torch.nn.functional as F\n",
        "from torchvision import models\n",
        "import torch.optim as optim\n",
        "from time import time\n",
        "\n",
        "import os\n",
        "import pathlib\n",
        "import time\n",
        "import datetime\n",
        "\n",
        "from matplotlib import pyplot as plt\n",
        "from IPython import display\n",
        "from PIL import Image\n",
        "\n",
        "from pathlib import Path\n",
        "import torch\n",
        "import numpy as np\n",
        "from torchvision import transforms\n",
        "from torch.utils.data import Dataset, DataLoader\n",
        "from tqdm import tqdm\n",
        "from torchvision.transforms.functional import crop\n",
        "\n",
        "import os"
      ],
      "metadata": {
        "id": "WWm9Xmd2s-k4"
      },
      "execution_count": null,
      "outputs": []
    },
    {
      "cell_type": "markdown",
      "source": [
        "# Downloading dataset"
      ],
      "metadata": {
        "id": "QkCc_tnq7IIn"
      }
    },
    {
      "cell_type": "markdown",
      "source": [
        "Let's download the dataset of shoes to train our model (taken from https://colab.research.google.com/github/tensorflow/docs/blob/master/site/en/tutorials/generative/pix2pix.ipynb#scrollTo=2CbTEt448b4R)"
      ],
      "metadata": {
        "id": "zn93O_Icp7bQ"
      }
    },
    {
      "cell_type": "code",
      "source": [
        "!git clone https://github.com/junyanz/pytorch-CycleGAN-and-pix2pix"
      ],
      "metadata": {
        "id": "tPYAnL8NFN_q"
      },
      "execution_count": null,
      "outputs": []
    },
    {
      "cell_type": "code",
      "source": [
        "os.chdir('pytorch-CycleGAN-and-pix2pix/')"
      ],
      "metadata": {
        "id": "SlzI6CgHFWgI"
      },
      "execution_count": null,
      "outputs": []
    },
    {
      "cell_type": "code",
      "source": [
        "!pip install -r requirements.txt"
      ],
      "metadata": {
        "id": "LVjIxpxKFZLM"
      },
      "execution_count": null,
      "outputs": []
    },
    {
      "cell_type": "code",
      "source": [
        "!bash ./datasets/download_pix2pix_dataset.sh edges2shoes"
      ],
      "metadata": {
        "id": "0v7Hgqf3FdsK"
      },
      "execution_count": null,
      "outputs": []
    },
    {
      "cell_type": "code",
      "source": [
        "!pip3 install Pillow"
      ],
      "metadata": {
        "colab": {
          "base_uri": "https://localhost:8080/"
        },
        "id": "Fkp_e1tyDO15",
        "outputId": "cdf561ab-b9ac-48b5-93ce-be7924866205"
      },
      "execution_count": null,
      "outputs": [
        {
          "output_type": "stream",
          "name": "stdout",
          "text": [
            "Looking in indexes: https://pypi.org/simple, https://us-python.pkg.dev/colab-wheels/public/simple/\n",
            "Requirement already satisfied: Pillow in /usr/local/lib/python3.7/dist-packages (7.1.2)\n"
          ]
        }
      ]
    },
    {
      "cell_type": "code",
      "source": [
        "TRAIN_DIR=Path('/content/pytorch-CycleGAN-and-pix2pix/datasets/edges2shoes/train')\n",
        "VAL_DIR=Path('/content/pytorch-CycleGAN-and-pix2pix/datasets/edges2shoes/train/10000_AB.jpg')\n",
        "train_files=sorted(list(TRAIN_DIR.rglob('*.jpg')))\n",
        "val_files=sorted(list(VAL_DIR.rglob('*.jpg')))"
      ],
      "metadata": {
        "id": "frNWN_S6LqeS"
      },
      "execution_count": null,
      "outputs": []
    },
    {
      "cell_type": "code",
      "source": [
        "reshape_size=256"
      ],
      "metadata": {
        "id": "K-WS59KPS2JH"
      },
      "execution_count": null,
      "outputs": []
    },
    {
      "cell_type": "code",
      "source": [
        "class P2PDataset(Dataset):\n",
        "\n",
        "  def __init__(self, files):\n",
        "    super().__init__()\n",
        "    self.files=sorted(files)\n",
        "    self.len_=len(self.files)\n",
        "\n",
        "  def load_sample(self, file):\n",
        "    image=Image.open(file)\n",
        "    image.load()\n",
        "    return image\n",
        "\n",
        "  def __len__(self):\n",
        "    return self.len_\n",
        "  def __getitem__(self, index):\n",
        "    transform = transforms.Compose([\n",
        "            transforms.ToTensor(),\n",
        "            transforms.Normalize([0.485, 0.456, 0.406], [0.229, 0.224, 0.225]) \n",
        "        ])\n",
        "    x=self.load_sample(self.files[index])\n",
        "    y=crop(x, top=0, left=0, height=256, width=256)\n",
        "    x=crop(x, top=0, left=256, height=256, width=256)\n",
        "    x=np.array(x, dtype='float32')\n",
        "    y=np.array(x, dtype='float32')\n",
        "    x=transform(x)\n",
        "    y=transform(y)\n",
        "    return x, y"
      ],
      "metadata": {
        "id": "6iXwFumyicRD"
      },
      "execution_count": null,
      "outputs": []
    },
    {
      "cell_type": "code",
      "source": [
        "train_dataset=P2PDataset(train_files)\n",
        "val_dataset=P2PDataset(val_files)"
      ],
      "metadata": {
        "id": "7OCjqWxHLMfA"
      },
      "execution_count": null,
      "outputs": []
    },
    {
      "cell_type": "markdown",
      "source": [
        "#Building the model"
      ],
      "metadata": {
        "id": "vwLSm6-V7Q44"
      }
    },
    {
      "cell_type": "code",
      "source": [
        "class downsample(nn.Module):\n",
        "  def __init__(self, in_channels, out_channels, kernel_size, stride, padding=1,use_batchnorm=True):\n",
        "    super().__init__()\n",
        "    if use_batchnorm:\n",
        "      self.core=nn.Sequential(\n",
        "          nn.Conv2d(in_channels=in_channels, out_channels=out_channels, kernel_size=kernel_size, stride=stride, padding=padding),\n",
        "          nn.BatchNorm2d(out_channels),\n",
        "          nn.LeakyReLU(inplace=True)\n",
        "      )\n",
        "    else:\n",
        "      self.core=nn.Sequential(\n",
        "        nn.Conv2d(in_channels=in_channels, out_channels=out_channels, kernel_size=kernel_size, stride=stride, padding=padding),\n",
        "        nn.LeakyReLU(inplace=True)\n",
        "    )\n",
        "  def forward(self, x):\n",
        "    return self.core(x)"
      ],
      "metadata": {
        "id": "7UFe-jfvPOeq"
      },
      "execution_count": null,
      "outputs": []
    },
    {
      "cell_type": "code",
      "source": [
        "class upsample(nn.Module):\n",
        "  def __init__(self, in_channels, out_channels, kernel_size, stride, padding=1,use_dropout=False):\n",
        "    super().__init__()\n",
        "    if use_dropout:\n",
        "      self.core=nn.Sequential(\n",
        "          nn.ConvTranspose2d(in_channels=in_channels, out_channels=out_channels, kernel_size=kernel_size, stride=stride, padding=padding),\n",
        "          nn.BatchNorm2d(out_channels),\n",
        "          nn.Dropout(0.5),\n",
        "          nn.ReLU(inplace=True)\n",
        "      )\n",
        "    else:\n",
        "      self.core=nn.Sequential(\n",
        "        nn.ConvTranspose2d(in_channels=in_channels, out_channels=out_channels, kernel_size=kernel_size, stride=stride, padding=padding),\n",
        "        nn.BatchNorm2d(out_channels),\n",
        "        nn.ReLU(inplace=True)\n",
        "    )\n",
        "  def forward(self, x):\n",
        "    return self.core(x)"
      ],
      "metadata": {
        "id": "RjHNCKiqash9"
      },
      "execution_count": null,
      "outputs": []
    },
    {
      "cell_type": "code",
      "source": [
        "class generator(nn.Module):\n",
        "  def __init__(self):\n",
        "    super().__init__()\n",
        "\n",
        "    self.encoders=[\n",
        "        downsample(in_channels=3, out_channels=64, kernel_size=4, stride=2, use_batchnorm=False),\n",
        "        downsample(in_channels=64, out_channels=128, kernel_size=4, stride=2),\n",
        "        downsample(in_channels=128, out_channels=256, kernel_size=4, stride=2),\n",
        "        downsample(in_channels=256, out_channels=512, kernel_size=4, stride=2),\n",
        "        downsample(in_channels=512, out_channels=512, kernel_size=4, stride=2),\n",
        "        downsample(in_channels=512, out_channels=512, kernel_size=4, stride=2),\n",
        "        downsample(in_channels=512, out_channels=512, kernel_size=4, stride=2),\n",
        "        downsample(in_channels=512, out_channels=1024, kernel_size=4, stride=2)\n",
        "    ]\n",
        "    self.decoders=[\n",
        "        upsample(in_channels=1024, out_channels=512, kernel_size=4, stride=2,use_dropout=True),\n",
        "        upsample(in_channels=512*2, out_channels=512, kernel_size=4, stride=2, use_dropout=True),\n",
        "        upsample(in_channels=512*2, out_channels=512, kernel_size=4, stride=2, use_dropout=True),\n",
        "        upsample(in_channels=512*2, out_channels=512, kernel_size=4, stride=2),\n",
        "        upsample(in_channels=512*2, out_channels=256, kernel_size=4, stride=2),\n",
        "        upsample(in_channels=256*2, out_channels=128, kernel_size=4, stride=2),\n",
        "        upsample(in_channels=128*2, out_channels=64, kernel_size=4, stride=2),\n",
        "    ]\n",
        "    self.last=nn.ConvTranspose2d(in_channels=64*2, out_channels=3, kernel_size=4, stride=2, padding=1)\n",
        "    \n",
        "  def forward(self, input):\n",
        "    x=input\n",
        "    skips=[]\n",
        "    \n",
        "    for encoder in self.encoders:\n",
        "      x=encoder(x)\n",
        "      skips.append(x)\n",
        "    \n",
        "    skips=reversed(skips[:-1])\n",
        "    step=0\n",
        "\n",
        "    for decoder,skip in zip(self.decoders, skips):\n",
        "      x=decoder(x)\n",
        "      x=torch.cat((x,skip),1)\n",
        "      step+=1\n",
        "    x=self.last(x)\n",
        "    return x"
      ],
      "metadata": {
        "id": "QNj7_y2bWbwn"
      },
      "execution_count": null,
      "outputs": []
    },
    {
      "cell_type": "code",
      "source": [
        "class discriminator(nn.Module):\n",
        "  def __init__(self):\n",
        "    super().__init__()\n",
        "    self.down0=downsample(in_channels=6, out_channels=64, kernel_size=4, stride=2, use_batchnorm=False)\n",
        "    self.down1=downsample(in_channels=64, out_channels=128, kernel_size=4, stride=2)\n",
        "    self.down2=downsample(in_channels=128, out_channels=256, kernel_size=4, stride=2)\n",
        "    self.zero_pad0=nn.ZeroPad2d(1)\n",
        "    self.conv=nn.Conv2d(in_channels=256,out_channels=512, kernel_size=4, stride=1)\n",
        "    self.batchnorm=nn.BatchNorm2d(512)\n",
        "    self.activation=nn.LeakyReLU()\n",
        "    self.zero_pad1=nn.ZeroPad2d(1)\n",
        "    self.last=nn.Conv2d(in_channels=512, out_channels=1, kernel_size=4, stride=1)\n",
        "  def forward(self, input):\n",
        "    e=self.down0(input)\n",
        "    e=self.down1(e)\n",
        "    e=self.down2(e)\n",
        "    e=self.zero_pad0(e)\n",
        "    e=self.conv(e)\n",
        "    e=self.batchnorm(e)\n",
        "    e=self.activation(e)\n",
        "    e=self.zero_pad1(e)\n",
        "    e=self.last(e)\n",
        "    return e"
      ],
      "metadata": {
        "id": "YNb3dpxTlmwC"
      },
      "execution_count": null,
      "outputs": []
    },
    {
      "cell_type": "markdown",
      "source": [
        "#Loss functions"
      ],
      "metadata": {
        "id": "RThztv827WdX"
      }
    },
    {
      "cell_type": "code",
      "source": [
        "def gen_loss(disc_output, gen_output, target):\n",
        "  Lambda=100 #by the authors of the model\n",
        "  gan_loss=nn.BCEWithLogitsLoss()\n",
        "  d_loss=gan_loss(torch.ones_like(gen_output), gen_output)\n",
        "  l1_loss=torch.mean(torch.abs(target - gen_output))\n",
        "  loss=d_loss-Lambda*l1_loss\n",
        "  return loss, l1_loss, d_loss"
      ],
      "metadata": {
        "id": "Ibggg6iPjp8G"
      },
      "execution_count": null,
      "outputs": []
    },
    {
      "cell_type": "code",
      "source": [
        "def disc_loss(real_output, generated_output):\n",
        "  loss=nn.BCEWithLogitsLoss()\n",
        "  real_loss=loss(torch.ones_like(real_output),real_output)\n",
        "  gen_loss=loss(torch.ones_like(generated_output), generated_output)\n",
        "  return real_loss+gen_loss"
      ],
      "metadata": {
        "id": "SyJ8rr8k8nD1"
      },
      "execution_count": null,
      "outputs": []
    },
    {
      "cell_type": "markdown",
      "source": [
        "#Train"
      ],
      "metadata": {
        "id": "K7gvB9mi7ugi"
      }
    },
    {
      "cell_type": "code",
      "source": [
        "device='cpu'\n",
        "if torch.cuda.is_available():\n",
        "  device='cuda'"
      ],
      "metadata": {
        "id": "LGIJ8yVlfyN8"
      },
      "execution_count": null,
      "outputs": []
    },
    {
      "cell_type": "code",
      "source": [
        "def train(discriminator, generator, train_dataset, val_dataset, epochs, batch_size):\n",
        "  train_loader=DataLoader(train_dataset, batch_size=batch_size, shuffle=True)\n",
        "  val_loader=DataLoader(val_dataset, batch_size=batch_size, shuffle=False)\n",
        "\n",
        "  history = []\n",
        "  log_template = \"\\nEpoch {ep:03d} train_loss: {t_loss:0.4f} \\\n",
        "  val_loss {v_loss:0.4f} train_acc {t_acc:0.4f} val_acc {v_acc:0.4f}\"\n",
        "\n",
        "  with tqdm(desc=\"epoch\", total=epochs) as pbar_outer:\n",
        "        gen_opt = torch.optim.Adam(generator.parameters())\n",
        "\n",
        "        disc_opt= torch.optim.Adam(discriminator.parameters())\n",
        "        used_data=0\n",
        "        #train\n",
        "        for epoch in range(epochs):\n",
        "          running_loss=0.0\n",
        "          running_corrects = 0\n",
        "          processed_data = 0\n",
        "          train_loss=0\n",
        "          val_loss=0\n",
        "          counter=0\n",
        "          for X_batch, Y_batch in train_loader:\n",
        "            X_batch = X_batch.to(device)\n",
        "            Y_batch = Y_batch.to(device)\n",
        "            gen_opt.zero_grad()\n",
        "            disc_opt.zero_grad()\n",
        "\n",
        "            gen_output=generator(X_batch)\n",
        "            disc_real_output=discriminator(torch.cat((X_batch, Y_batch),1))\n",
        "            disc_generated_output=discriminator(torch.cat((X_batch, gen_output),1))\n",
        "\n",
        "            gen_total_loss, gen_gan_loss, gen_l1_loss=gen_loss(disc_generated_output, gen_output, Y_batch)\n",
        "            discriminator_loss=disc_loss(disc_real_output, disc_generated_output)\n",
        "\n",
        "            gen_total_loss.backward(retain_graph=True)\n",
        "            discriminator_loss.backward()\n",
        "\n",
        "            gen_opt.step()\n",
        "            disc_opt.step()\n",
        "            train_loss+=gen_total_loss/len(X_batch)\n",
        "            used_data+=1\n",
        "            print('Data passed:',used_data*batch_size, '/n', 'Data left:', len(train_dataset)-used_data*batch_size)\n",
        "            counter+=batch_size\n",
        "            if counter>1200:\n",
        "              break\n",
        "            #validation\n",
        "          counter=0\n",
        "          for X_batch, Y_batch in val_loader:\n",
        "            X_batch = X_batch.to(device)\n",
        "            Y_batch = Y_batch.to(device)\n",
        "            with torch.no_grad():\n",
        "              gen_output=generator(X_batch)\n",
        "              disc_real_output=discriminator(torch.cat((X_batch, Y_batch),1))\n",
        "              disc_generated_output=discriminator(torch.cat((X_batch, gen_output),1))\n",
        "\n",
        "              gen_total_loss, gen_gan_loss, gen_l1_loss=gen_loss(disc_generated_output, gen_output, Y_batch)\n",
        "              discriminator_loss=disc_loss(disc_real_output, disc_generated_output)\n",
        "              val_loss+=gen_total_loss/len(X_batch)\n",
        "            counter+=batch_size\n",
        "            if counter>500:\n",
        "              break\n",
        "          history.append((train_loss, val_loss))\n",
        "          pbar_outer.update(1)\n",
        "          tqdm.write(log_template.format(ep=epoch+1, t_loss=train_loss,\\\n",
        "                                           v_loss=val_loss))\n",
        "\n",
        "  return history"
      ],
      "metadata": {
        "id": "y2ixXBVKbQX9"
      },
      "execution_count": null,
      "outputs": []
    },
    {
      "cell_type": "code",
      "source": [
        "disc=discriminator()\n",
        "gen=generator()\n",
        "gen=gen.to(device)\n",
        "disc=disc.to(device)\n",
        "epochs=2\n",
        "batch_size=32"
      ],
      "metadata": {
        "id": "GNJdJRp2r1by"
      },
      "execution_count": null,
      "outputs": []
    },
    {
      "cell_type": "code",
      "source": [
        "history=train(disc, gen, train_dataset, val_dataset, epochs, batch_size)"
      ],
      "metadata": {
        "id": "ke-Y0nyToDz_"
      },
      "execution_count": null,
      "outputs": []
    },
    {
      "cell_type": "markdown",
      "source": [
        "#Predict"
      ],
      "metadata": {
        "id": "eJ6XDsGP71cc"
      }
    },
    {
      "cell_type": "code",
      "source": [
        "def predict(generator, dataset, model, device, batch_size):\n",
        "  test_loader=DataLoader(dataset, batch_size=batch_size, shuffle=False)\n",
        "  outputs=[]\n",
        "  generator.eval()\n",
        "  with torch.no_grad():\n",
        "    for X in tqdm(test_loader):\n",
        "      input=X.to(device)\n",
        "      \n",
        "      output=model(input).cpu()\n",
        "\n",
        "      outputs.append(output)\n",
        "  \n",
        "  return outputs"
      ],
      "metadata": {
        "id": "Gkzyyw5z76mq"
      },
      "execution_count": 2,
      "outputs": []
    },
    {
      "cell_type": "code",
      "source": [
        ":"
      ],
      "metadata": {
        "id": "N9vfO62q84Dv"
      },
      "execution_count": null,
      "outputs": []
    }
  ]
}